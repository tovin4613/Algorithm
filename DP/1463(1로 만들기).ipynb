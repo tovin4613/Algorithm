{
 "cells": [
  {
   "cell_type": "code",
   "execution_count": 36,
   "metadata": {},
   "outputs": [
    {
     "name": "stdout",
     "output_type": "stream",
     "text": [
      "3\n"
     ]
    }
   ],
   "source": [
    "import sys\n",
    "\n",
    "max_index = 10000000\n",
    "\n",
    "N = int(input())\n",
    "DP = [0] * max_index\n",
    "DP[1] = 0\n",
    "\n",
    "for i in range(2, N+1):\n",
    "    DP[i] = DP[i-1] + 1\n",
    "    if i % 2 == 0:\n",
    "        DP[i] = min(DP[i], DP[i//2] + 1)\n",
    "    if i % 3 == 0:\n",
    "        DP[i] = min(DP[i], DP[i//3] + 1)\n",
    "\n",
    "print(DP[N])\n"
   ]
  },
  {
   "cell_type": "code",
   "execution_count": null,
   "metadata": {},
   "outputs": [],
   "source": []
  }
 ],
 "metadata": {
  "kernelspec": {
   "display_name": "Python 3",
   "language": "python",
   "name": "python3"
  },
  "language_info": {
   "codemirror_mode": {
    "name": "ipython",
    "version": 3
   },
   "file_extension": ".py",
   "mimetype": "text/x-python",
   "name": "python",
   "nbconvert_exporter": "python",
   "pygments_lexer": "ipython3",
   "version": "0.0.0"
  }
 },
 "nbformat": 4,
 "nbformat_minor": 2
}
