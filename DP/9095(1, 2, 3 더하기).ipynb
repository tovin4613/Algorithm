{
 "cells": [
  {
   "cell_type": "code",
   "execution_count": 11,
   "metadata": {},
   "outputs": [
    {
     "name": "stdout",
     "output_type": "stream",
     "text": [
      "7\n",
      "44\n",
      "274\n"
     ]
    }
   ],
   "source": [
    "import sys\n",
    "\n",
    "max_n = 11\n",
    "\n",
    "\n",
    "DP = [0] * max_n\n",
    "DP[1] = 1\n",
    "DP[2] = 2\n",
    "DP[3] = 4\n",
    "for i in range(4, max_n) :\n",
    "    DP[i] = DP[i-1] + DP[i-2] + DP[i-3]\n",
    "\n",
    "N = int(input())\n",
    "for i in range(N) :\n",
    "   n = int(input())\n",
    "   print(DP[n])"
   ]
  }
 ],
 "metadata": {
  "kernelspec": {
   "display_name": "Python 3",
   "language": "python",
   "name": "python3"
  },
  "language_info": {
   "codemirror_mode": {
    "name": "ipython",
    "version": 3
   },
   "file_extension": ".py",
   "mimetype": "text/x-python",
   "name": "python",
   "nbconvert_exporter": "python",
   "pygments_lexer": "ipython3",
   "version": "3.12.0"
  }
 },
 "nbformat": 4,
 "nbformat_minor": 2
}
