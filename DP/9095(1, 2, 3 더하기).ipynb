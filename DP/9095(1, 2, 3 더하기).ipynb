{
 "cells": [
  {
   "cell_type": "code",
   "execution_count": 2,
   "metadata": {},
   "outputs": [
    {
     "name": "stdout",
     "output_type": "stream",
     "text": [
      "44\n"
     ]
    }
   ],
   "source": [
    "import sys\n",
    "\n",
    "max_n = 11\n",
    "\n",
    "N = int(input())\n",
    "DP = [0] * max_n\n",
    "DP[1] = 1\n",
    "DP[2] = 2\n",
    "DP[3] = 4\n",
    "for i in range(4, N + 1) :\n",
    "    DP[i] = DP[i-1] + DP[i-2] + DP[i-3]\n",
    "\n",
    "print(DP[N])"
   ]
  }
 ],
 "metadata": {
  "kernelspec": {
   "display_name": "Python 3",
   "language": "python",
   "name": "python3"
  },
  "language_info": {
   "codemirror_mode": {
    "name": "ipython",
    "version": 3
   },
   "file_extension": ".py",
   "mimetype": "text/x-python",
   "name": "python",
   "nbconvert_exporter": "python",
   "pygments_lexer": "ipython3",
   "version": "3.12.0"
  }
 },
 "nbformat": 4,
 "nbformat_minor": 2
}
