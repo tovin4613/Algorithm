{
 "cells": [
  {
   "cell_type": "code",
   "execution_count": 19,
   "metadata": {},
   "outputs": [
    {
     "name": "stdout",
     "output_type": "stream",
     "text": [
      "4 3\n"
     ]
    }
   ],
   "source": [
    "import sys\n",
    "from collections import deque\n",
    "\n",
    "def bfs_RG(a, b) :\n",
    "    if (visited_RG[a][b] == 1) :\n",
    "        return\n",
    "    queue = deque()\n",
    "    queue.append((a, b))\n",
    "\n",
    "    visited_RG[a][b] = 1\n",
    "    answer['RG'] += 1\n",
    "\n",
    "    while queue :\n",
    "        x, y = queue.popleft()\n",
    "\n",
    "        for i in range(4) :\n",
    "            nx = x + dx[i]\n",
    "            ny = y + dy[i]\n",
    "\n",
    "            if (0 <= nx < N) and (0 <= ny < N) :\n",
    "                if (visited_RG[nx][ny] == 0) :\n",
    "                    if (graph[x][y] == 'R') or (graph[x][y] == 'G') :\n",
    "                        if (graph[nx][nx] == 'R') or (graph[nx][ny] == 'G') :\n",
    "                            queue.append((nx, ny))\n",
    "                            visited_RG[nx][ny] = 1\n",
    "                    elif (graph[x][y] == 'B') and (graph[nx][ny] == 'B') :\n",
    "                        queue.append((nx, ny))\n",
    "                        visited_RG[nx][ny] = 1\n",
    "\n",
    "def bfs_Normal(a, b) :\n",
    "    if (visited_normal[a][b] == 1) :\n",
    "        return\n",
    "    queue = deque()\n",
    "    queue.append((a, b))\n",
    "\n",
    "    visited_normal[a][b] = 1\n",
    "    answer['normal'] += 1\n",
    "\n",
    "    while queue :\n",
    "        x, y = queue.popleft()\n",
    "\n",
    "        for i in range(4) :\n",
    "            nx = x + dx[i]\n",
    "            ny = y + dy[i]\n",
    "\n",
    "            if (0 <= nx < N) and (0 <= ny < N) :\n",
    "                if (visited_normal[nx][ny] == 0) :\n",
    "                    if (graph[x][y] == graph[nx][ny]) :\n",
    "                        queue.append((nx, ny))\n",
    "                        visited_normal[nx][ny] = 1\n",
    "\n",
    "N = int(input())\n",
    "visited_normal = [[0 for j in range(N)] for i in range(N)]\n",
    "visited_RG = [[0 for j in range(N)] for i in range(N)]\n",
    "answer = {'RG': 0, 'normal': 0}\n",
    "dx = [0, 0, 1, -1]\n",
    "dy = [1, -1, 0, 0]\n",
    "graph = []\n",
    "\n",
    "for i in range(N) :\n",
    "    s = str(input())\n",
    "    temp = []\n",
    "    for j in range(len(s)) :\n",
    "        temp.append(s[j])\n",
    "    graph.append(temp)\n",
    "\n",
    "for i in range(N) :\n",
    "    for j in range(N) :\n",
    "        bfs_RG(i, j)\n",
    "        bfs_Normal(i, j)\n",
    "\n",
    "print(answer['normal'], answer['RG'])\n"
   ]
  }
 ],
 "metadata": {
  "kernelspec": {
   "display_name": "base",
   "language": "python",
   "name": "python3"
  },
  "language_info": {
   "codemirror_mode": {
    "name": "ipython",
    "version": 3
   },
   "file_extension": ".py",
   "mimetype": "text/x-python",
   "name": "python",
   "nbconvert_exporter": "python",
   "pygments_lexer": "ipython3",
   "version": "3.11.3"
  },
  "orig_nbformat": 4
 },
 "nbformat": 4,
 "nbformat_minor": 2
}
