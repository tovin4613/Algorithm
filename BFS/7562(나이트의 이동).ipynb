{
 "cells": [
  {
   "cell_type": "code",
   "execution_count": 16,
   "metadata": {},
   "outputs": [
    {
     "name": "stdout",
     "output_type": "stream",
     "text": [
      "6\n"
     ]
    }
   ],
   "source": [
    "import sys\n",
    "from collections import deque\n",
    "\n",
    "def BFS(a, b) :\n",
    "    queue = deque()\n",
    "    queue.append((a,b))\n",
    "    visited[a][b] = 1\n",
    "\n",
    "    while queue :\n",
    "        x, y = queue.popleft()\n",
    "\n",
    "        if (x, y) == (x_g, y_g) :\n",
    "            return visited[x][y]\n",
    "        \n",
    "        for i in range(8) :\n",
    "            nx = x + dx[i]\n",
    "            ny = y + dy[i]\n",
    "            if (nx < 0) or (nx >= l) or (ny < 0) or (ny >= l) :\n",
    "                continue\n",
    "            \n",
    "            if visited[nx][ny] == 0 :\n",
    "                queue.append((nx, ny))\n",
    "                visited[nx][ny] = visited[x][y] + 1\n",
    "\n",
    "dx = [-2, -1, 1, 2, 2, 1, -1, -2]\n",
    "dy = [-1, -2, -2, -1, 1, 2, 2, 1]\n",
    "n = int(input())\n",
    "\n",
    "for i in range(n) :\n",
    "    l = int(input())\n",
    "    graph = [[0 for j in range(l)] for i in range(l)]\n",
    "    visited = [[0 for j in range(l)] for i in range(l)]\n",
    "    x_c, y_c = map(int, input().split()) # 나이트의 현재 위치\n",
    "    x_g, y_g = map(int, input().split()) # 나이트가 이동하려는 칸\n",
    "    if (x_c, y_c) == (x_g, y_g) :\n",
    "        print(0)\n",
    "    else :\n",
    "        print(BFS(x_c, y_c) - 1)\n",
    "\n"
   ]
  }
 ],
 "metadata": {
  "kernelspec": {
   "display_name": "Python 3",
   "language": "python",
   "name": "python3"
  },
  "language_info": {
   "codemirror_mode": {
    "name": "ipython",
    "version": 3
   },
   "file_extension": ".py",
   "mimetype": "text/x-python",
   "name": "python",
   "nbconvert_exporter": "python",
   "pygments_lexer": "ipython3",
   "version": "3.12.0"
  }
 },
 "nbformat": 4,
 "nbformat_minor": 2
}
