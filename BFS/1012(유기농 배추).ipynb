{
 "cells": [
  {
   "cell_type": "code",
   "execution_count": null,
   "metadata": {},
   "outputs": [],
   "source": [
    "import sys\n",
    "from collections import deque\n",
    "def BFS(graph, a, b) :\n",
    "    if graph[a][b] == 0 :\n",
    "        return 0\n",
    "    queue = deque()\n",
    "    queue.append((a, b))\n",
    "    graph[a][b] = 0\n",
    "    \n",
    "    while queue :\n",
    "        x, y = queue.popleft()\n",
    "        for i in range(4) :\n",
    "            nx = x + dx[i]\n",
    "            ny = y + dy[i]\n",
    "            if (nx < 0) or (nx >= M) or (ny < 0) or (ny >= N) :\n",
    "                continue\n",
    "            if graph[nx][ny] == 1 :\n",
    "                queue.append((nx, ny))\n",
    "                graph[nx][ny] = 0\n",
    "    return 1\n",
    "        \n",
    "\n",
    "T = int(input())\n",
    "dx = [0, 0, 1, -1]\n",
    "dy = [1, -1, 0, 0]\n",
    "answer = list(0 for i in range(T))\n",
    "for i in range(T) :\n",
    "    M, N, K = map(int, input().split())\n",
    "    graph = [[0 for j in range(N)] for i in range(M)]\n",
    "    for j in range(K) :\n",
    "        X, Y = map(int, input().split())\n",
    "        graph[X][Y] = 1\n",
    "    \n",
    "    for k in range(M) :\n",
    "        for l in range(N) :\n",
    "            answer[i] += BFS(graph, k, l)\n",
    "\n",
    "for i in range(T) :\n",
    "    print(answer[i], end='\\n')\n",
    "    \n",
    "    "
   ]
  }
 ],
 "metadata": {
  "kernelspec": {
   "display_name": "base",
   "language": "python",
   "name": "python3"
  },
  "language_info": {
   "name": "python",
   "version": "3.11.3"
  },
  "orig_nbformat": 4
 },
 "nbformat": 4,
 "nbformat_minor": 2
}
