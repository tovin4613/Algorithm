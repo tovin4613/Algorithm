{
 "cells": [
  {
   "cell_type": "code",
   "execution_count": null,
   "metadata": {},
   "outputs": [],
   "source": [
    "import sys\n",
    "from collections import deque\n",
    "input = sys.stdin.readline\n",
    "N, K = 5, 17#map(int, input().split())\n",
    "\n",
    "graph = [0] * 100001\n",
    "visited = [0] * 100001\n",
    "queue = deque()\n",
    "queue.append(N)\n",
    "visited[N] = 1\n",
    "while queue :\n",
    "    n = queue.popleft()\n",
    "    \n",
    "    if (n == K) :\n",
    "        print(graph[n])\n",
    "        break\n",
    "\n",
    "    for i in (n-1, n+1, n*2) :\n",
    "        if (0 < i < 100001) and (visited[i] == 0) :\n",
    "            queue.append(i)\n",
    "            graph[i] = graph[n] + 1\n",
    "            visited[i] = 1"
   ]
  }
 ],
 "metadata": {
  "language_info": {
   "name": "python"
  },
  "orig_nbformat": 4
 },
 "nbformat": 4,
 "nbformat_minor": 2
}
