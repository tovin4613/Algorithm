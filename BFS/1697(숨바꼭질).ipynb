{
 "cells": [
  {
   "cell_type": "code",
   "execution_count": 11,
   "metadata": {},
   "outputs": [
    {
     "name": "stdout",
     "output_type": "stream",
     "text": [
      "119\n"
     ]
    }
   ],
   "source": [
    "import sys\n",
    "from collections import deque\n",
    "#input = sys.stdin.readline\n",
    "N, K = map(int, input().split())\n",
    "\n",
    "graph = [0] * 100001\n",
    "visited = [0] * 100001\n",
    "queue = deque()\n",
    "queue.append(N)\n",
    "visited[N] = 1\n",
    "while queue :\n",
    "    n = queue.popleft()\n",
    "    \n",
    "    if (n == K) :\n",
    "        print(graph[n])\n",
    "        break\n",
    "\n",
    "    for i in (n-1, n+1, n*2) :\n",
    "        if (0 <= i < 100001) and (visited[i] == 0) :\n",
    "            queue.append(i)\n",
    "            graph[i] = graph[n] + 1\n",
    "            visited[i] = 1"
   ]
  }
 ],
 "metadata": {
  "kernelspec": {
   "display_name": "base",
   "language": "python",
   "name": "python3"
  },
  "language_info": {
   "codemirror_mode": {
    "name": "ipython",
    "version": 3
   },
   "file_extension": ".py",
   "mimetype": "text/x-python",
   "name": "python",
   "nbconvert_exporter": "python",
   "pygments_lexer": "ipython3",
   "version": "3.11.3"
  },
  "orig_nbformat": 4
 },
 "nbformat": 4,
 "nbformat_minor": 2
}
