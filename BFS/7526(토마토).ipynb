{
 "cells": [
  {
   "cell_type": "code",
   "execution_count": 4,
   "metadata": {},
   "outputs": [
    {
     "name": "stdout",
     "output_type": "stream",
     "text": [
      "1 1\n"
     ]
    }
   ],
   "source": [
    "import sys\n",
    "\n",
    "queue = []\n",
    "visited = [[0] * 10] * 10  # 주어진 배열의 크기\n",
    "queue.append((1, 1))  # 초기 값 큐에 넣음\n",
    "visited[1][1] = 1  # 초기 값에 대해 방문 표시\n",
    "dx = [0, 0, 1, -1]\n",
    "dy = [1, -1, 0, 0]\n",
    "while queue:\n",
    "    x, y = queue.pop()\n",
    "    print(x, y)\n",
    "\n",
    "    for i in range(4) :\n",
    "        nx = x + dx[i]\n",
    "        ny = y + dx[y]\n",
    "        if (nx < 0) or (nx >= 5) or (ny < 0) or (ny >= 5) :\n",
    "            continue\n",
    "        if visited[nx][ny] == 1 :\n",
    "            continue\n",
    "        queue.append((nx, ny))\n",
    "        visited[nx][ny] = 1"
   ]
  },
  {
   "cell_type": "code",
   "execution_count": 9,
   "metadata": {},
   "outputs": [
    {
     "name": "stdout",
     "output_type": "stream",
     "text": [
      "-1\n"
     ]
    }
   ],
   "source": [
    "import sys\n",
    "from collections import deque\n",
    "#input = sys.stdin.readline\n",
    "M, N = 6, 4#map(int, input().split())\n",
    "graph = [[0, -1, 0, 0, 0, 0],\n",
    "[-1, 0, 0, 0, 0, 0],\n",
    "[0, 0, 0, 0, 0, 0],\n",
    "[0 ,0, 0, 0, 0, 1]]\n",
    "# graph = []\n",
    "# for i in range(N) :\n",
    "#     graph.append(list(map(int, input().split())))\n",
    "dx = [1, -1, 0, 0]\n",
    "dy = [0, 0, 1, -1]\n",
    "\n",
    "def bfs(graph, queue) :\n",
    "    \n",
    "    while queue :\n",
    "        x, y = queue.popleft()\n",
    "        \n",
    "        for i in range(4) :\n",
    "            nx = x + dx[i]\n",
    "            ny = y + dy[i]\n",
    "            if (nx < 0) or (nx >= N) or (ny < 0) or (ny >= M) :\n",
    "                continue\n",
    "            if (graph[nx][ny] == 0) :\n",
    "                queue.append((nx, ny))\n",
    "                graph[nx][ny] = graph[x][y] + 1\n",
    "\n",
    "count = sum(arr.count(0) for arr in graph)\n",
    "if(count == 0) : # 모든 토마토가 익어있는 상태\n",
    "    print(0)\n",
    "else :\n",
    "    queue = deque()\n",
    "    for i in range(N) :\n",
    "        for j in range(M) :\n",
    "            if(graph[i][j] == 1) :\n",
    "                queue.append((i, j))\n",
    "                \n",
    "    bfs(graph, queue)\n",
    "    \n",
    "    count = sum(arr.count(0) for arr in graph)\n",
    "    \n",
    "    if (count > 0) :\n",
    "        print(-1)\n",
    "    else :\n",
    "        print(max(max(arr) for arr in graph) - 1)"
   ]
  }
 ],
 "metadata": {
  "kernelspec": {
   "display_name": "base",
   "language": "python",
   "name": "python3"
  },
  "language_info": {
   "codemirror_mode": {
    "name": "ipython",
    "version": 3
   },
   "file_extension": ".py",
   "mimetype": "text/x-python",
   "name": "python",
   "nbconvert_exporter": "python",
   "pygments_lexer": "ipython3",
   "version": "3.11.3"
  },
  "orig_nbformat": 4
 },
 "nbformat": 4,
 "nbformat_minor": 2
}
