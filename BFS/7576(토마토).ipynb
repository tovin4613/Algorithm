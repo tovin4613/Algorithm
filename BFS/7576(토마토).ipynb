{
 "cells": [
  {
   "cell_type": "code",
   "execution_count": 1,
   "metadata": {},
   "outputs": [
    {
     "ename": "ValueError",
     "evalue": "not enough values to unpack (expected 2, got 1)",
     "output_type": "error",
     "traceback": [
      "\u001b[1;31m---------------------------------------------------------------------------\u001b[0m",
      "\u001b[1;31mValueError\u001b[0m                                Traceback (most recent call last)",
      "\u001b[1;32mc:\\Users\\jdl\\Desktop\\공부\\7576(토마토).ipynb 셀 1\u001b[0m line \u001b[0;36m4\n\u001b[0;32m      <a href='vscode-notebook-cell:/c%3A/Users/jdl/Desktop/%EA%B3%B5%EB%B6%80/7576%28%ED%86%A0%EB%A7%88%ED%86%A0%29.ipynb#W0sZmlsZQ%3D%3D?line=1'>2</a>\u001b[0m \u001b[39mfrom\u001b[39;00m \u001b[39mcollections\u001b[39;00m \u001b[39mimport\u001b[39;00m deque\n\u001b[0;32m      <a href='vscode-notebook-cell:/c%3A/Users/jdl/Desktop/%EA%B3%B5%EB%B6%80/7576%28%ED%86%A0%EB%A7%88%ED%86%A0%29.ipynb#W0sZmlsZQ%3D%3D?line=2'>3</a>\u001b[0m \u001b[39m#input = sys.stdin.readline\u001b[39;00m\n\u001b[1;32m----> <a href='vscode-notebook-cell:/c%3A/Users/jdl/Desktop/%EA%B3%B5%EB%B6%80/7576%28%ED%86%A0%EB%A7%88%ED%86%A0%29.ipynb#W0sZmlsZQ%3D%3D?line=3'>4</a>\u001b[0m M, N \u001b[39m=\u001b[39m \u001b[39mmap\u001b[39m(\u001b[39mint\u001b[39m, \u001b[39minput\u001b[39m()\u001b[39m.\u001b[39msplit())\n\u001b[0;32m      <a href='vscode-notebook-cell:/c%3A/Users/jdl/Desktop/%EA%B3%B5%EB%B6%80/7576%28%ED%86%A0%EB%A7%88%ED%86%A0%29.ipynb#W0sZmlsZQ%3D%3D?line=4'>5</a>\u001b[0m graph \u001b[39m=\u001b[39m []\n\u001b[0;32m      <a href='vscode-notebook-cell:/c%3A/Users/jdl/Desktop/%EA%B3%B5%EB%B6%80/7576%28%ED%86%A0%EB%A7%88%ED%86%A0%29.ipynb#W0sZmlsZQ%3D%3D?line=5'>6</a>\u001b[0m \u001b[39mfor\u001b[39;00m i \u001b[39min\u001b[39;00m \u001b[39mrange\u001b[39m(N) :\n",
      "\u001b[1;31mValueError\u001b[0m: not enough values to unpack (expected 2, got 1)"
     ]
    }
   ],
   "source": [
    "import sys\n",
    "from collections import deque\n",
    "#input = sys.stdin.readline\n",
    "M, N = map(int, input().split())\n",
    "graph = []\n",
    "for i in range(N) :\n",
    "    graph.append(list(map(int, input().split())))\n",
    "dx = [1, -1, 0, 0]\n",
    "dy = [0, 0, 1, -1]\n",
    "\n",
    "def bfs(graph, queue) :\n",
    "    \n",
    "    while queue :\n",
    "        x, y = queue.popleft()\n",
    "        \n",
    "        for i in range(4) :\n",
    "            nx = x + dx[i]\n",
    "            ny = y + dy[i]\n",
    "            if (nx < 0) or (nx >= N) or (ny < 0) or (ny >= M) :\n",
    "                continue\n",
    "            if (graph[nx][ny] == 0) :\n",
    "                queue.append((nx, ny))\n",
    "                graph[nx][ny] = graph[x][y] + 1\n",
    "\n",
    "count = sum(arr.count(0) for arr in graph)\n",
    "if(count == 0) : # 모든 토마토가 익어있는 상태\n",
    "    print(0)\n",
    "else :\n",
    "    queue = deque()\n",
    "    for i in range(N) :\n",
    "        for j in range(M) :\n",
    "            if(graph[i][j] == 1) :\n",
    "                queue.append((i, j))\n",
    "                \n",
    "    bfs(graph, queue)\n",
    "    \n",
    "    count = sum(arr.count(0) for arr in graph)\n",
    "    \n",
    "    if (count > 0) :\n",
    "        print(-1)\n",
    "    else :\n",
    "        print(max(max(arr) for arr in graph) - 1)"
   ]
  },
  {
   "cell_type": "code",
   "execution_count": null,
   "metadata": {},
   "outputs": [],
   "source": []
  }
 ],
 "metadata": {
  "kernelspec": {
   "display_name": "base",
   "language": "python",
   "name": "python3"
  },
  "language_info": {
   "codemirror_mode": {
    "name": "ipython",
    "version": 3
   },
   "file_extension": ".py",
   "mimetype": "text/x-python",
   "name": "python",
   "nbconvert_exporter": "python",
   "pygments_lexer": "ipython3",
   "version": "3.11.3"
  },
  "orig_nbformat": 4
 },
 "nbformat": 4,
 "nbformat_minor": 2
}
