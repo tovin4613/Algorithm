{
 "cells": [
  {
   "cell_type": "code",
   "execution_count": null,
   "metadata": {},
   "outputs": [],
   "source": [
    "# 7895 전설의 도둑\n",
    "import sys\n",
    "from collections import deque\n",
    "\n",
    "def BFS(n):\n",
    "    queue.append(n)\n",
    "    visited[n] = 1\n",
    "\n",
    "    while queue :\n",
    "        n = queue.popleft()\n",
    "        \n",
    "        for m in [n + 3, n - 1, n * 2]:\n",
    "            if 0 <= m <= 100000 :\n",
    "                if visited[m] == 0:\n",
    "                    if m == N:\n",
    "                        return visited[n]\n",
    "                    queue.append(m)\n",
    "                    visited[m] = visited[n] + 1\n",
    "\n",
    "K, N = map(int, input().split())\n",
    "\n",
    "queue = deque()\n",
    "visited = [0] * 100001\n",
    "print(BFS(K))\n"
   ]
  }
 ],
 "metadata": {
  "language_info": {
   "name": "python"
  }
 },
 "nbformat": 4,
 "nbformat_minor": 2
}
