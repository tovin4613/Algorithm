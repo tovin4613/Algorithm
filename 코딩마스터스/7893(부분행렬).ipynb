{
 "cells": [
  {
   "cell_type": "code",
   "execution_count": null,
   "metadata": {},
   "outputs": [],
   "source": [
    "# 7893 부분행렬\n",
    "import sys\n",
    "N, M, X = map(int, input().split())\n",
    "arr = []\n",
    "arr_sum = [[0 for _ in range(M + 1)] for _ in range(N + 1)]\n",
    "\n",
    "arr.append([0] * (M + 1))\n",
    "for i in range(N):\n",
    "    arr.append(list(map(int, ('0 '+input()).split())))\n",
    "\n",
    "for i in range(N):\n",
    "    for j in range(M):\n",
    "        arr_sum[i+1][j+1] = arr_sum[i+1][j] + arr_sum[i][j+1] - arr_sum[i][j] + arr[i+1][j+1]\n",
    "answer = 'NO'\n",
    "for i in range(N+1):\n",
    "    for j in range(M+1):\n",
    "        if arr_sum[i][j] == X:\n",
    "            answer = 'YES'\n",
    "print(answer)"
   ]
  }
 ],
 "metadata": {
  "language_info": {
   "name": "python"
  }
 },
 "nbformat": 4,
 "nbformat_minor": 2
}
