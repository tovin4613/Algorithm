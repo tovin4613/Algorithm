{
 "cells": [
  {
   "cell_type": "code",
   "execution_count": null,
   "metadata": {},
   "outputs": [],
   "source": [
    "# 4개씩 더하고 최소값 빼기\n",
    "# 7891 카드게임\n",
    "import sys\n",
    "\n",
    "N = input()\n",
    "arr = list(map(int, input().split()))\n",
    "cs = 0\n",
    "yh = 0\n",
    "if (len(arr) < 4):\n",
    "    print(sum(arr))\n",
    "else:\n",
    "    arr_split = []\n",
    "    for i in range(0, len(arr), 4):\n",
    "        arr_split.append(arr[i:i+4])\n",
    "        \n",
    "    for a in arr_split:\n",
    "        if len(a) == 4:\n",
    "            cs += sum(a) - min(a)\n",
    "            yh += min(a)\n",
    "        else:\n",
    "            cs += sum(a)\n",
    "    print(cs - yh)"
   ]
  }
 ],
 "metadata": {
  "language_info": {
   "name": "python"
  }
 },
 "nbformat": 4,
 "nbformat_minor": 2
}
