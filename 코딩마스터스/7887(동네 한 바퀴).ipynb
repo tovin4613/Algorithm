{
 "cells": [
  {
   "cell_type": "code",
   "execution_count": null,
   "metadata": {},
   "outputs": [],
   "source": [
    "import sys\n",
    "# 7887 동네 한 바퀴\n",
    "def DFS(arr, i, visited):\n",
    "    global answer\n",
    "    visited[i] = 1\n",
    "\n",
    "    for j in arr[i]:\n",
    "        if j == 1:\n",
    "            answer = 'YES'\n",
    "            return\n",
    "        if visited[j] == 0:\n",
    "            DFS(arr, j, visited)\n",
    "\n",
    "N, M = map(int, input().split())\n",
    "arr = [[] for _ in range(N+1)]\n",
    "visited = [0] * (N+1)\n",
    "answer = 'NO'\n",
    "for i in range(M):\n",
    "    s, e = map(int, input().split())\n",
    "    arr[s].append(e)\n",
    "\n",
    "DFS(arr, 1, visited)\n",
    "if answer == 'YES':\n",
    "    print('YES')\n",
    "else :\n",
    "    print('NO')"
   ]
  }
 ],
 "metadata": {
  "language_info": {
   "name": "python"
  }
 },
 "nbformat": 4,
 "nbformat_minor": 2
}
