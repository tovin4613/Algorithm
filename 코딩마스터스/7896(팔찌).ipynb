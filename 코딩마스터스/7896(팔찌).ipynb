{
 "cells": [
  {
   "cell_type": "code",
   "execution_count": null,
   "metadata": {},
   "outputs": [],
   "source": [
    "#7896 팔찌\n",
    "import sys\n",
    "list_a = list(input())\n",
    "list_b = list(input())\n",
    "list_a.sort()\n",
    "list_b.sort()\n",
    "answer = 'YES'\n",
    "for i in range(len(list_a)):\n",
    "    if list_a[i] != list_b[i]:\n",
    "        answer = 'NO'\n",
    "        break\n",
    "print(answer)"
   ]
  }
 ],
 "metadata": {
  "language_info": {
   "name": "python"
  }
 },
 "nbformat": 4,
 "nbformat_minor": 2
}
