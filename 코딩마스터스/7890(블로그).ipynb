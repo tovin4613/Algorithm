{
 "cells": [
  {
   "cell_type": "code",
   "execution_count": null,
   "metadata": {},
   "outputs": [],
   "source": [
    "# 7900 블로그\n",
    "N, K = map(int, input().split())\n",
    "arr = list(map(int, input().split()))\n",
    "\n",
    "arr_split = []\n",
    "for i in range(0, len(arr), K):\n",
    "    arr_split.append(arr[i:i+K])\n",
    "max_n = 0\n",
    "max_idx = 0\n",
    "\n",
    "for i in range(len(arr_split)):\n",
    "    if max_n < sum(arr_split[i]):\n",
    "        max_n = sum(arr_split[i])\n",
    "        max_idx = (i * K) + 1\n",
    "\n",
    "print(max_idx)"
   ]
  }
 ],
 "metadata": {
  "language_info": {
   "name": "python"
  }
 },
 "nbformat": 4,
 "nbformat_minor": 2
}
