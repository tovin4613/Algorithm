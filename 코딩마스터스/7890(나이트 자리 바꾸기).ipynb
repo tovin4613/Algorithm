{
 "cells": [
  {
   "cell_type": "code",
   "execution_count": null,
   "metadata": {},
   "outputs": [],
   "source": [
    "# 7890 나이트 자리 바꾸기\n",
    "import sys\n",
    "graph = []\n",
    "for i in range(3):\n",
    "    graph.append(list(map(int, input())))\n",
    "black = []\n",
    "white = []\n",
    "for i in range(3):\n",
    "    for j in range(3):\n",
    "        if (graph[i][j] == 1):\n",
    "            white.append((i, j))\n",
    "        elif (graph[i][j] == 2):\n",
    "            black.append((i, j))\n"
   ]
  }
 ],
 "metadata": {
  "language_info": {
   "name": "python"
  }
 },
 "nbformat": 4,
 "nbformat_minor": 2
}
