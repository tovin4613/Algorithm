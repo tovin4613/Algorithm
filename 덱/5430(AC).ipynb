{
 "cells": [
  {
   "cell_type": "code",
   "execution_count": 1,
   "metadata": {},
   "outputs": [
    {
     "ename": "ValueError",
     "evalue": "invalid literal for int() with base 10: ''",
     "output_type": "error",
     "traceback": [
      "\u001b[1;31m---------------------------------------------------------------------------\u001b[0m",
      "\u001b[1;31mValueError\u001b[0m                                Traceback (most recent call last)",
      "\u001b[1;32mc:\\Users\\user\\Desktop\\강의 정리\\알고리즘 공부\\Algorithm\\덱\\5430(AC).ipynb 셀 1\u001b[0m line \u001b[0;36m9\n\u001b[0;32m      <a href='vscode-notebook-cell:/c%3A/Users/user/Desktop/%EA%B0%95%EC%9D%98%20%EC%A0%95%EB%A6%AC/%EC%95%8C%EA%B3%A0%EB%A6%AC%EC%A6%98%20%EA%B3%B5%EB%B6%80/Algorithm/%EB%8D%B1/5430%28AC%29.ipynb#W0sZmlsZQ%3D%3D?line=6'>7</a>\u001b[0m \u001b[39mfor\u001b[39;00m i \u001b[39min\u001b[39;00m \u001b[39mrange\u001b[39m(T):\n\u001b[0;32m      <a href='vscode-notebook-cell:/c%3A/Users/user/Desktop/%EA%B0%95%EC%9D%98%20%EC%A0%95%EB%A6%AC/%EC%95%8C%EA%B3%A0%EB%A6%AC%EC%A6%98%20%EA%B3%B5%EB%B6%80/Algorithm/%EB%8D%B1/5430%28AC%29.ipynb#W0sZmlsZQ%3D%3D?line=7'>8</a>\u001b[0m     p \u001b[39m=\u001b[39m \u001b[39mlist\u001b[39m(\u001b[39mmap\u001b[39m(\u001b[39mstr\u001b[39m, \u001b[39minput\u001b[39m()))\n\u001b[1;32m----> <a href='vscode-notebook-cell:/c%3A/Users/user/Desktop/%EA%B0%95%EC%9D%98%20%EC%A0%95%EB%A6%AC/%EC%95%8C%EA%B3%A0%EB%A6%AC%EC%A6%98%20%EA%B3%B5%EB%B6%80/Algorithm/%EB%8D%B1/5430%28AC%29.ipynb#W0sZmlsZQ%3D%3D?line=8'>9</a>\u001b[0m     n \u001b[39m=\u001b[39m \u001b[39mint\u001b[39;49m(\u001b[39minput\u001b[39;49m())\n\u001b[0;32m     <a href='vscode-notebook-cell:/c%3A/Users/user/Desktop/%EA%B0%95%EC%9D%98%20%EC%A0%95%EB%A6%AC/%EC%95%8C%EA%B3%A0%EB%A6%AC%EC%A6%98%20%EA%B3%B5%EB%B6%80/Algorithm/%EB%8D%B1/5430%28AC%29.ipynb#W0sZmlsZQ%3D%3D?line=9'>10</a>\u001b[0m     arr \u001b[39m=\u001b[39m json\u001b[39m.\u001b[39mloads(\u001b[39mstr\u001b[39m(\u001b[39minput\u001b[39m()))\n\u001b[0;32m     <a href='vscode-notebook-cell:/c%3A/Users/user/Desktop/%EA%B0%95%EC%9D%98%20%EC%A0%95%EB%A6%AC/%EC%95%8C%EA%B3%A0%EB%A6%AC%EC%A6%98%20%EA%B3%B5%EB%B6%80/Algorithm/%EB%8D%B1/5430%28AC%29.ipynb#W0sZmlsZQ%3D%3D?line=10'>11</a>\u001b[0m     queue \u001b[39m=\u001b[39m deque(arr)\n",
      "\u001b[1;31mValueError\u001b[0m: invalid literal for int() with base 10: ''"
     ]
    }
   ],
   "source": [
    "import sys\n",
    "import json\n",
    "from collections import deque\n",
    "\n",
    "T = int(input())\n",
    "\n",
    "for i in range(T):\n",
    "    p = list(map(str, input()))\n",
    "    n = int(input())\n",
    "    arr = json.loads(str(input()))\n",
    "    queue = deque(arr)\n",
    "    isError = False\n",
    "    dict_RD = {'R': 0, 'D': 0}\n",
    "    \n",
    "    for j in p :\n",
    "        dict_RD[j] += 1\n",
    "\n",
    "        if (j == 'D') :\n",
    "            if len(queue) == 0 :\n",
    "                isError = True\n",
    "                break\n",
    "            if dict_RD['R'] % 2 == 0 :\n",
    "                queue.popleft()\n",
    "            elif dict_RD['R'] % 2 == 1 :\n",
    "                queue.pop()\n",
    "\n",
    "    if isError :\n",
    "        print('error')\n",
    "    else :\n",
    "        if dict_RD['R'] % 2 == 1 :\n",
    "            queue.reverse()\n",
    "\n",
    "        if(len(queue) == 0) :\n",
    "            print(\"[]\")\n",
    "        else :\n",
    "            answer = ''\n",
    "            for i in list(queue):\n",
    "                answer += str(i) + ','\n",
    "            print('[' + answer[:-1] + ']')\n",
    "    "
   ]
  },
  {
   "cell_type": "code",
   "execution_count": 64,
   "metadata": {},
   "outputs": [
    {
     "name": "stdout",
     "output_type": "stream",
     "text": [
      "[2,1]\n",
      "]"
     ]
    }
   ],
   "source": [
    "answer = ''\n",
    "for i in list(queue):\n",
    "    answer += str(i) + ','\n",
    "print('[' + answer[:-1] + ']')"
   ]
  }
 ],
 "metadata": {
  "kernelspec": {
   "display_name": "Python 3",
   "language": "python",
   "name": "python3"
  },
  "language_info": {
   "codemirror_mode": {
    "name": "ipython",
    "version": 3
   },
   "file_extension": ".py",
   "mimetype": "text/x-python",
   "name": "python",
   "nbconvert_exporter": "python",
   "pygments_lexer": "ipython3",
   "version": "3.12.0"
  }
 },
 "nbformat": 4,
 "nbformat_minor": 2
}
